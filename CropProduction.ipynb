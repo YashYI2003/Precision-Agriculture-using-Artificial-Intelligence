{
  "cells": [
    {
      "cell_type": "code",
      "execution_count": null,
      "metadata": {
        "colab": {
          "base_uri": "https://localhost:8080/"
        },
        "id": "axVIVUk73onR",
        "outputId": "16dfa9ae-78bd-4932-d577-b28fff67f490"
      },
      "outputs": [
        {
          "name": "stdout",
          "output_type": "stream",
          "text": [
            "Requirement already satisfied: scikit-learn==1.2.2 in /usr/local/lib/python3.11/dist-packages (1.2.2)\n",
            "Requirement already satisfied: numpy>=1.17.3 in /usr/local/lib/python3.11/dist-packages (from scikit-learn==1.2.2) (1.26.4)\n",
            "Requirement already satisfied: scipy>=1.3.2 in /usr/local/lib/python3.11/dist-packages (from scikit-learn==1.2.2) (1.13.1)\n",
            "Requirement already satisfied: joblib>=1.1.1 in /usr/local/lib/python3.11/dist-packages (from scikit-learn==1.2.2) (1.4.2)\n",
            "Requirement already satisfied: threadpoolctl>=2.0.0 in /usr/local/lib/python3.11/dist-packages (from scikit-learn==1.2.2) (3.5.0)\n"
          ]
        }
      ],
      "source": [
        "!pip install scikit-learn==1.2.2"
      ]
    },
    {
      "cell_type": "code",
      "execution_count": null,
      "metadata": {
        "colab": {
          "base_uri": "https://localhost:8080/",
          "height": 310
        },
        "id": "jbQs2bid3qTE",
        "outputId": "8699a895-b3a2-4a57-dc48-3e3659b33b62"
      },
      "outputs": [
        {
          "data": {
            "application/vnd.google.colaboratory.intrinsic+json": {
              "type": "dataframe",
              "variable_name": "df"
            },
            "text/html": [
              "\n",
              "  <div id=\"df-68f3f2b9-be13-4633-b2fc-a42e19e2c35c\" class=\"colab-df-container\">\n",
              "    <div>\n",
              "<style scoped>\n",
              "    .dataframe tbody tr th:only-of-type {\n",
              "        vertical-align: middle;\n",
              "    }\n",
              "\n",
              "    .dataframe tbody tr th {\n",
              "        vertical-align: top;\n",
              "    }\n",
              "\n",
              "    .dataframe thead th {\n",
              "        text-align: right;\n",
              "    }\n",
              "</style>\n",
              "<table border=\"1\" class=\"dataframe\">\n",
              "  <thead>\n",
              "    <tr style=\"text-align: right;\">\n",
              "      <th></th>\n",
              "      <th>State</th>\n",
              "      <th>District</th>\n",
              "      <th>Crop</th>\n",
              "      <th>Year</th>\n",
              "      <th>Season</th>\n",
              "      <th>Area</th>\n",
              "      <th>Area Units</th>\n",
              "      <th>Production</th>\n",
              "      <th>Production Units</th>\n",
              "      <th>Yield</th>\n",
              "    </tr>\n",
              "  </thead>\n",
              "  <tbody>\n",
              "    <tr>\n",
              "      <th>0</th>\n",
              "      <td>Andaman and Nicobar Islands</td>\n",
              "      <td>NICOBARS</td>\n",
              "      <td>Arecanut</td>\n",
              "      <td>2001-02</td>\n",
              "      <td>Kharif</td>\n",
              "      <td>1254.0</td>\n",
              "      <td>Hectare</td>\n",
              "      <td>2061.0</td>\n",
              "      <td>Tonnes</td>\n",
              "      <td>1.643541</td>\n",
              "    </tr>\n",
              "    <tr>\n",
              "      <th>1</th>\n",
              "      <td>Andaman and Nicobar Islands</td>\n",
              "      <td>NICOBARS</td>\n",
              "      <td>Arecanut</td>\n",
              "      <td>2002-03</td>\n",
              "      <td>Whole Year</td>\n",
              "      <td>1258.0</td>\n",
              "      <td>Hectare</td>\n",
              "      <td>2083.0</td>\n",
              "      <td>Tonnes</td>\n",
              "      <td>1.655803</td>\n",
              "    </tr>\n",
              "    <tr>\n",
              "      <th>2</th>\n",
              "      <td>Andaman and Nicobar Islands</td>\n",
              "      <td>NICOBARS</td>\n",
              "      <td>Arecanut</td>\n",
              "      <td>2003-04</td>\n",
              "      <td>Whole Year</td>\n",
              "      <td>1261.0</td>\n",
              "      <td>Hectare</td>\n",
              "      <td>1525.0</td>\n",
              "      <td>Tonnes</td>\n",
              "      <td>1.209358</td>\n",
              "    </tr>\n",
              "    <tr>\n",
              "      <th>3</th>\n",
              "      <td>Andaman and Nicobar Islands</td>\n",
              "      <td>NORTH AND MIDDLE ANDAMAN</td>\n",
              "      <td>Arecanut</td>\n",
              "      <td>2001-02</td>\n",
              "      <td>Kharif</td>\n",
              "      <td>3100.0</td>\n",
              "      <td>Hectare</td>\n",
              "      <td>5239.0</td>\n",
              "      <td>Tonnes</td>\n",
              "      <td>1.690000</td>\n",
              "    </tr>\n",
              "    <tr>\n",
              "      <th>4</th>\n",
              "      <td>Andaman and Nicobar Islands</td>\n",
              "      <td>SOUTH ANDAMANS</td>\n",
              "      <td>Arecanut</td>\n",
              "      <td>2002-03</td>\n",
              "      <td>Whole Year</td>\n",
              "      <td>3105.0</td>\n",
              "      <td>Hectare</td>\n",
              "      <td>5267.0</td>\n",
              "      <td>Tonnes</td>\n",
              "      <td>1.696296</td>\n",
              "    </tr>\n",
              "  </tbody>\n",
              "</table>\n",
              "</div>\n",
              "    <div class=\"colab-df-buttons\">\n",
              "\n",
              "  <div class=\"colab-df-container\">\n",
              "    <button class=\"colab-df-convert\" onclick=\"convertToInteractive('df-68f3f2b9-be13-4633-b2fc-a42e19e2c35c')\"\n",
              "            title=\"Convert this dataframe to an interactive table.\"\n",
              "            style=\"display:none;\">\n",
              "\n",
              "  <svg xmlns=\"http://www.w3.org/2000/svg\" height=\"24px\" viewBox=\"0 -960 960 960\">\n",
              "    <path d=\"M120-120v-720h720v720H120Zm60-500h600v-160H180v160Zm220 220h160v-160H400v160Zm0 220h160v-160H400v160ZM180-400h160v-160H180v160Zm440 0h160v-160H620v160ZM180-180h160v-160H180v160Zm440 0h160v-160H620v160Z\"/>\n",
              "  </svg>\n",
              "    </button>\n",
              "\n",
              "  <style>\n",
              "    .colab-df-container {\n",
              "      display:flex;\n",
              "      gap: 12px;\n",
              "    }\n",
              "\n",
              "    .colab-df-convert {\n",
              "      background-color: #E8F0FE;\n",
              "      border: none;\n",
              "      border-radius: 50%;\n",
              "      cursor: pointer;\n",
              "      display: none;\n",
              "      fill: #1967D2;\n",
              "      height: 32px;\n",
              "      padding: 0 0 0 0;\n",
              "      width: 32px;\n",
              "    }\n",
              "\n",
              "    .colab-df-convert:hover {\n",
              "      background-color: #E2EBFA;\n",
              "      box-shadow: 0px 1px 2px rgba(60, 64, 67, 0.3), 0px 1px 3px 1px rgba(60, 64, 67, 0.15);\n",
              "      fill: #174EA6;\n",
              "    }\n",
              "\n",
              "    .colab-df-buttons div {\n",
              "      margin-bottom: 4px;\n",
              "    }\n",
              "\n",
              "    [theme=dark] .colab-df-convert {\n",
              "      background-color: #3B4455;\n",
              "      fill: #D2E3FC;\n",
              "    }\n",
              "\n",
              "    [theme=dark] .colab-df-convert:hover {\n",
              "      background-color: #434B5C;\n",
              "      box-shadow: 0px 1px 3px 1px rgba(0, 0, 0, 0.15);\n",
              "      filter: drop-shadow(0px 1px 2px rgba(0, 0, 0, 0.3));\n",
              "      fill: #FFFFFF;\n",
              "    }\n",
              "  </style>\n",
              "\n",
              "    <script>\n",
              "      const buttonEl =\n",
              "        document.querySelector('#df-68f3f2b9-be13-4633-b2fc-a42e19e2c35c button.colab-df-convert');\n",
              "      buttonEl.style.display =\n",
              "        google.colab.kernel.accessAllowed ? 'block' : 'none';\n",
              "\n",
              "      async function convertToInteractive(key) {\n",
              "        const element = document.querySelector('#df-68f3f2b9-be13-4633-b2fc-a42e19e2c35c');\n",
              "        const dataTable =\n",
              "          await google.colab.kernel.invokeFunction('convertToInteractive',\n",
              "                                                    [key], {});\n",
              "        if (!dataTable) return;\n",
              "\n",
              "        const docLinkHtml = 'Like what you see? Visit the ' +\n",
              "          '<a target=\"_blank\" href=https://colab.research.google.com/notebooks/data_table.ipynb>data table notebook</a>'\n",
              "          + ' to learn more about interactive tables.';\n",
              "        element.innerHTML = '';\n",
              "        dataTable['output_type'] = 'display_data';\n",
              "        await google.colab.output.renderOutput(dataTable, element);\n",
              "        const docLink = document.createElement('div');\n",
              "        docLink.innerHTML = docLinkHtml;\n",
              "        element.appendChild(docLink);\n",
              "      }\n",
              "    </script>\n",
              "  </div>\n",
              "\n",
              "\n",
              "<div id=\"df-2c9e2fb0-71d7-4e6c-ba47-3701e39d0e52\">\n",
              "  <button class=\"colab-df-quickchart\" onclick=\"quickchart('df-2c9e2fb0-71d7-4e6c-ba47-3701e39d0e52')\"\n",
              "            title=\"Suggest charts\"\n",
              "            style=\"display:none;\">\n",
              "\n",
              "<svg xmlns=\"http://www.w3.org/2000/svg\" height=\"24px\"viewBox=\"0 0 24 24\"\n",
              "     width=\"24px\">\n",
              "    <g>\n",
              "        <path d=\"M19 3H5c-1.1 0-2 .9-2 2v14c0 1.1.9 2 2 2h14c1.1 0 2-.9 2-2V5c0-1.1-.9-2-2-2zM9 17H7v-7h2v7zm4 0h-2V7h2v10zm4 0h-2v-4h2v4z\"/>\n",
              "    </g>\n",
              "</svg>\n",
              "  </button>\n",
              "\n",
              "<style>\n",
              "  .colab-df-quickchart {\n",
              "      --bg-color: #E8F0FE;\n",
              "      --fill-color: #1967D2;\n",
              "      --hover-bg-color: #E2EBFA;\n",
              "      --hover-fill-color: #174EA6;\n",
              "      --disabled-fill-color: #AAA;\n",
              "      --disabled-bg-color: #DDD;\n",
              "  }\n",
              "\n",
              "  [theme=dark] .colab-df-quickchart {\n",
              "      --bg-color: #3B4455;\n",
              "      --fill-color: #D2E3FC;\n",
              "      --hover-bg-color: #434B5C;\n",
              "      --hover-fill-color: #FFFFFF;\n",
              "      --disabled-bg-color: #3B4455;\n",
              "      --disabled-fill-color: #666;\n",
              "  }\n",
              "\n",
              "  .colab-df-quickchart {\n",
              "    background-color: var(--bg-color);\n",
              "    border: none;\n",
              "    border-radius: 50%;\n",
              "    cursor: pointer;\n",
              "    display: none;\n",
              "    fill: var(--fill-color);\n",
              "    height: 32px;\n",
              "    padding: 0;\n",
              "    width: 32px;\n",
              "  }\n",
              "\n",
              "  .colab-df-quickchart:hover {\n",
              "    background-color: var(--hover-bg-color);\n",
              "    box-shadow: 0 1px 2px rgba(60, 64, 67, 0.3), 0 1px 3px 1px rgba(60, 64, 67, 0.15);\n",
              "    fill: var(--button-hover-fill-color);\n",
              "  }\n",
              "\n",
              "  .colab-df-quickchart-complete:disabled,\n",
              "  .colab-df-quickchart-complete:disabled:hover {\n",
              "    background-color: var(--disabled-bg-color);\n",
              "    fill: var(--disabled-fill-color);\n",
              "    box-shadow: none;\n",
              "  }\n",
              "\n",
              "  .colab-df-spinner {\n",
              "    border: 2px solid var(--fill-color);\n",
              "    border-color: transparent;\n",
              "    border-bottom-color: var(--fill-color);\n",
              "    animation:\n",
              "      spin 1s steps(1) infinite;\n",
              "  }\n",
              "\n",
              "  @keyframes spin {\n",
              "    0% {\n",
              "      border-color: transparent;\n",
              "      border-bottom-color: var(--fill-color);\n",
              "      border-left-color: var(--fill-color);\n",
              "    }\n",
              "    20% {\n",
              "      border-color: transparent;\n",
              "      border-left-color: var(--fill-color);\n",
              "      border-top-color: var(--fill-color);\n",
              "    }\n",
              "    30% {\n",
              "      border-color: transparent;\n",
              "      border-left-color: var(--fill-color);\n",
              "      border-top-color: var(--fill-color);\n",
              "      border-right-color: var(--fill-color);\n",
              "    }\n",
              "    40% {\n",
              "      border-color: transparent;\n",
              "      border-right-color: var(--fill-color);\n",
              "      border-top-color: var(--fill-color);\n",
              "    }\n",
              "    60% {\n",
              "      border-color: transparent;\n",
              "      border-right-color: var(--fill-color);\n",
              "    }\n",
              "    80% {\n",
              "      border-color: transparent;\n",
              "      border-right-color: var(--fill-color);\n",
              "      border-bottom-color: var(--fill-color);\n",
              "    }\n",
              "    90% {\n",
              "      border-color: transparent;\n",
              "      border-bottom-color: var(--fill-color);\n",
              "    }\n",
              "  }\n",
              "</style>\n",
              "\n",
              "  <script>\n",
              "    async function quickchart(key) {\n",
              "      const quickchartButtonEl =\n",
              "        document.querySelector('#' + key + ' button');\n",
              "      quickchartButtonEl.disabled = true;  // To prevent multiple clicks.\n",
              "      quickchartButtonEl.classList.add('colab-df-spinner');\n",
              "      try {\n",
              "        const charts = await google.colab.kernel.invokeFunction(\n",
              "            'suggestCharts', [key], {});\n",
              "      } catch (error) {\n",
              "        console.error('Error during call to suggestCharts:', error);\n",
              "      }\n",
              "      quickchartButtonEl.classList.remove('colab-df-spinner');\n",
              "      quickchartButtonEl.classList.add('colab-df-quickchart-complete');\n",
              "    }\n",
              "    (() => {\n",
              "      let quickchartButtonEl =\n",
              "        document.querySelector('#df-2c9e2fb0-71d7-4e6c-ba47-3701e39d0e52 button');\n",
              "      quickchartButtonEl.style.display =\n",
              "        google.colab.kernel.accessAllowed ? 'block' : 'none';\n",
              "    })();\n",
              "  </script>\n",
              "</div>\n",
              "\n",
              "    </div>\n",
              "  </div>\n"
            ],
            "text/plain": [
              "                         State                  District      Crop     Year  \\\n",
              "0  Andaman and Nicobar Islands                  NICOBARS  Arecanut  2001-02   \n",
              "1  Andaman and Nicobar Islands                  NICOBARS  Arecanut  2002-03   \n",
              "2  Andaman and Nicobar Islands                  NICOBARS  Arecanut  2003-04   \n",
              "3  Andaman and Nicobar Islands  NORTH AND MIDDLE ANDAMAN  Arecanut  2001-02   \n",
              "4  Andaman and Nicobar Islands            SOUTH ANDAMANS  Arecanut  2002-03   \n",
              "\n",
              "       Season    Area Area Units  Production Production Units     Yield  \n",
              "0      Kharif  1254.0    Hectare      2061.0           Tonnes  1.643541  \n",
              "1  Whole Year  1258.0    Hectare      2083.0           Tonnes  1.655803  \n",
              "2  Whole Year  1261.0    Hectare      1525.0           Tonnes  1.209358  \n",
              "3      Kharif  3100.0    Hectare      5239.0           Tonnes  1.690000  \n",
              "4  Whole Year  3105.0    Hectare      5267.0           Tonnes  1.696296  "
            ]
          },
          "execution_count": 2,
          "metadata": {},
          "output_type": "execute_result"
        }
      ],
      "source": [
        "import pandas as pd\n",
        "\n",
        "# Load the dataset\n",
        "df = pd.read_csv('/content/India Agriculture Crop Production.csv')\n",
        "\n",
        "# Display the first 5 rows\n",
        "df.head()\n"
      ]
    },
    {
      "cell_type": "code",
      "execution_count": null,
      "metadata": {
        "id": "NxaBGI7E3ysk"
      },
      "outputs": [],
      "source": [
        "df.dropna(inplace=True)  # Remove missing values\n",
        "\n",
        "# Removing unwanted states and production units\n",
        "df2 = df[(df['State'] != 'Ladakh') & (df['Production Units'] != 'Nuts') & (df['Production Units'] != 'Basel')]\n",
        "\n",
        "# Selecting top 10 crops for analysis\n",
        "top_crops = df2['Crop'].value_counts()[:10].index.tolist()\n",
        "df2 = df2[df2['Crop'].isin(top_crops)]\n"
      ]
    },
    {
      "cell_type": "code",
      "execution_count": null,
      "metadata": {
        "id": "PKbrojvX39Q1"
      },
      "outputs": [],
      "source": [
        "df.dropna(inplace=True)  # Remove missing values\n",
        "\n",
        "# Removing unwanted states and production units\n",
        "df2 = df[(df['State'] != 'Ladakh') & (df['Production Units'] != 'Nuts') & (df['Production Units'] != 'Basel')]\n",
        "\n",
        "# Selecting top 10 crops for analysis\n",
        "top_crops = df2['Crop'].value_counts()[:10].index.tolist()\n",
        "df2 = df2[df2['Crop'].isin(top_crops)]\n"
      ]
    },
    {
      "cell_type": "code",
      "execution_count": null,
      "metadata": {
        "id": "PE7hwytj3_zQ"
      },
      "outputs": [],
      "source": [
        "from sklearn.model_selection import train_test_split\n",
        "\n",
        "X = df2.drop('Production', axis=1)\n",
        "y = df2['Production']\n",
        "\n",
        "# Splitting dataset into training and testing sets\n",
        "X_train, X_test, y_train, y_test = train_test_split(X, y, test_size=0.33, random_state=101)\n"
      ]
    },
    {
      "cell_type": "code",
      "execution_count": null,
      "metadata": {
        "id": "KjmRNii-4Cos"
      },
      "outputs": [],
      "source": [
        "state_encoding = {state: i+1 for i, state in enumerate(df2['State'].unique())}\n",
        "crop_encoding = {crop: i+1 for i, crop in enumerate(df2['Crop'].unique())}\n",
        "season_encoding = {season: i+1 for i, season in enumerate(df2['Season'].unique())}\n"
      ]
    },
    {
      "cell_type": "code",
      "execution_count": null,
      "metadata": {
        "id": "FLOqWwHQH6ef"
      },
      "outputs": [],
      "source": [
        "from sklearn.base import BaseEstimator, TransformerMixin\n",
        "\n",
        "class FeatureTransformation(BaseEstimator, TransformerMixin):\n",
        "    def fit(self, X, y=None):\n",
        "        return self\n",
        "\n",
        "    def transform(self, X):\n",
        "        X = X.copy()\n",
        "\n",
        "        # Encode categorical columns\n",
        "        X['State_enc'] = X['State'].map(state_encoding)\n",
        "        X['Crop_enc'] = X['Crop'].map(crop_encoding)\n",
        "        X['Season_enc'] = X['Season'].map(season_encoding)\n",
        "\n",
        "        # Extract the first 4 digits from 'Year' to convert it into an integer\n",
        "        X['Year_enc'] = X['Year'].str[:4].astype(int)\n",
        "\n",
        "        return X"
      ]
    },
    {
      "cell_type": "code",
      "execution_count": null,
      "metadata": {
        "id": "k1DZ8Idf4HKc"
      },
      "outputs": [],
      "source": [
        "# Modify FeatureTransformation class\n",
        "class FeatureTransformation(BaseEstimator, TransformerMixin):\n",
        "    def fit(self, X, y=None):\n",
        "        return self\n",
        "\n",
        "    def transform(self, X):\n",
        "        X = X.copy()\n",
        "\n",
        "        # Encode categorical columns\n",
        "        X['State_enc'] = X['State'].map(state_encoding)\n",
        "        X['Crop_enc'] = X['Crop'].map(crop_encoding)\n",
        "        X['Season_enc'] = X['Season'].map(season_encoding)\n",
        "\n",
        "        # Extract the first 4 digits from 'Year' to convert it into an integer\n",
        "        X['Year_enc'] = X['Year'].str[:4].astype(int)\n",
        "\n",
        "        return X\n",
        "\n",
        "# Apply Transformation\n",
        "transformer = FeatureTransformation()\n",
        "X_transformed = transformer.transform(X_train)\n",
        "X_test_transformed = transformer.transform(X_test)\n",
        "\n",
        "# Drop original categorical columns\n",
        "X_transformed = X_transformed.drop(['State', 'Crop', 'Season', 'Year'], axis=1)\n",
        "X_test_transformed = X_test_transformed.drop(['State', 'Crop', 'Season', 'Year'], axis=1)\n"
      ]
    },
    {
      "cell_type": "code",
      "execution_count": null,
      "metadata": {
        "id": "-_6exJAo6bkb"
      },
      "outputs": [],
      "source": [
        "import pandas as pd\n",
        "from sklearn.base import BaseEstimator, TransformerMixin\n",
        "from sklearn.preprocessing import LabelEncoder\n",
        "\n",
        "class FeatureTransformation(BaseEstimator, TransformerMixin):\n",
        "    def __init__(self):\n",
        "        self.label_encoders = {}  # Dictionary to store LabelEncoders\n",
        "\n",
        "    def fit(self, X, y=None):\n",
        "        categorical_columns = ['State', 'District', 'Crop', 'Season']\n",
        "\n",
        "        # Create LabelEncoders for categorical columns\n",
        "        for col in categorical_columns:\n",
        "            le = LabelEncoder()\n",
        "            X[col] = X[col].astype(str)  # Ensure string format\n",
        "            le.fit(X[col])\n",
        "            self.label_encoders[col] = le\n",
        "\n",
        "        return self\n",
        "\n",
        "    def transform(self, X):\n",
        "        X = X.copy()\n",
        "\n",
        "        # Apply Label Encoding for categorical columns\n",
        "        for col in self.label_encoders:\n",
        "            X[col] = X[col].astype(str)\n",
        "            # Handle unseen values by ignoring them\n",
        "            X[col] = self.label_encoders[col].transform(X[col].apply(lambda x: x if x in self.label_encoders[col].classes_ else self.label_encoders[col].classes_[0]))\n",
        "\n",
        "        # Convert 'Year' column to integer (Extract first four digits)\n",
        "        X['Year'] = X['Year'].astype(str).str[:4].astype(int)\n",
        "\n",
        "        # Apply One-Hot Encoding to 'Area Units' and 'Production Units'\n",
        "        X = pd.get_dummies(X, columns=['Area Units', 'Production Units'], drop_first=True)\n",
        "\n",
        "        return X"
      ]
    },
    {
      "cell_type": "code",
      "execution_count": null,
      "metadata": {
        "id": "n1p-5Y127cXF"
      },
      "outputs": [],
      "source": [
        "import pandas as pd\n",
        "from sklearn.base import BaseEstimator, TransformerMixin\n",
        "from sklearn.preprocessing import LabelEncoder\n",
        "\n",
        "class FeatureTransformation(BaseEstimator, TransformerMixin):\n",
        "    def __init__(self):\n",
        "        self.label_encoders = {}  # Dictionary to store LabelEncoders\n",
        "\n",
        "    def fit(self, X, y=None):\n",
        "        categorical_columns = ['State', 'District', 'Crop', 'Season', 'Area Units', 'Production Units']\n",
        "\n",
        "        # Create LabelEncoders for categorical columns and fit to the entire dataset\n",
        "        for col in categorical_columns:\n",
        "            le = LabelEncoder()\n",
        "            X[col] = X[col].astype(str)  # Ensure string format\n",
        "            le.fit(pd.concat([X[col], X_test[col]]))  # Fit to both training and testing data\n",
        "            self.label_encoders[col] = le\n",
        "\n",
        "        return self\n",
        "\n",
        "    def transform(self, X):\n",
        "        X = X.copy()\n",
        "\n",
        "        # Apply Label Encoding for categorical columns\n",
        "        for col in self.label_encoders:\n",
        "            X[col] = X[col].astype(str)\n",
        "            # Handle unseen values by ignoring them\n",
        "            X[col] = self.label_encoders[col].transform(X[col].apply(lambda x: x if x in self.label_encoders[col].classes_ else self.label_encoders[col].classes_[0]))\n",
        "\n",
        "        # Convert 'Year' column to integer (Extract first four digits)\n",
        "        X['Year'] = X['Year'].astype(str).str[:4].astype(int)\n",
        "        return X"
      ]
    },
    {
      "cell_type": "code",
      "execution_count": null,
      "metadata": {
        "colab": {
          "base_uri": "https://localhost:8080/"
        },
        "id": "JdUQ4Zjj7mhG",
        "outputId": "4a01d072-4f02-40e7-9999-8442088e5e87"
      },
      "outputs": [
        {
          "name": "stdout",
          "output_type": "stream",
          "text": [
            "State         int64\n",
            "District      int64\n",
            "Crop          int64\n",
            "Year          int64\n",
            "Season        int64\n",
            "Area        float64\n",
            "Yield       float64\n",
            "dtype: object\n"
          ]
        }
      ],
      "source": [
        "print(X_train_transformed.dtypes)\n"
      ]
    },
    {
      "cell_type": "code",
      "execution_count": null,
      "metadata": {
        "colab": {
          "base_uri": "https://localhost:8080/"
        },
        "id": "fauGpo3e6gzj",
        "outputId": "73709f6c-aa45-49dd-e610-cd4392bf559f"
      },
      "outputs": [
        {
          "name": "stdout",
          "output_type": "stream",
          "text": [
            "Model Performance:\n",
            "Mean Absolute Error (MAE): 2703.08155182233\n",
            "Mean Squared Error (MSE): 1361594649.9645069\n",
            "R-Squared Score: 0.9956206667065474\n"
          ]
        }
      ],
      "source": [
        "from sklearn.tree import DecisionTreeRegressor\n",
        "from sklearn.metrics import mean_absolute_error, mean_squared_error, r2_score\n",
        "\n",
        "# Apply Transformation\n",
        "transformer = FeatureTransformation()\n",
        "X_train_transformed = transformer.fit_transform(X_train)  # Fit & Transform training data\n",
        "X_test_transformed = transformer.transform(X_test)  # Transform test data\n",
        "\n",
        "# Drop original features\n",
        "original_features = ['State', 'District', 'Crop', 'Season', 'Area Units', 'Production Units', 'Year']\n",
        "X_train_transformed = X_train_transformed.drop(columns=original_features, errors='ignore')\n",
        "X_test_transformed = X_test_transformed.drop(columns=original_features, errors='ignore')\n",
        "\n",
        "# Train Decision Tree Model\n",
        "decision_tree_model = DecisionTreeRegressor()\n",
        "decision_tree_model.fit(X_train_transformed, y_train)\n",
        "\n",
        "# Make Predictions\n",
        "y_pred = decision_tree_model.predict(X_test_transformed)\n",
        "\n",
        "# Evaluate Model Performance\n",
        "mae = mean_absolute_error(y_test, y_pred)\n",
        "mse = mean_squared_error(y_test, y_pred)\n",
        "r2 = r2_score(y_test, y_pred)\n",
        "\n",
        "print(\"Model Performance:\")\n",
        "print(\"Mean Absolute Error (MAE):\", mae)\n",
        "print(\"Mean Squared Error (MSE):\", mse)\n",
        "print(\"R-Squared Score:\", r2)"
      ]
    },
    {
      "cell_type": "code",
      "execution_count": null,
      "metadata": {
        "colab": {
          "base_uri": "https://localhost:8080/",
          "height": 487
        },
        "id": "GhftWHQs4Jiw",
        "outputId": "dcd4bcba-b5f5-43e5-a562-6ca58ef0beae"
      },
      "outputs": [
        {
          "data": {
            "image/png": "[encoded data removed]",
            "text/plain": [
              "<Figure size 1000x500 with 1 Axes>"
            ]
          },
          "metadata": {},
          "output_type": "display_data"
        }
      ],
      "source": [
        "import matplotlib.pyplot as plt\n",
        "import numpy as np\n",
        "\n",
        "# Get feature importance\n",
        "feature_importances = decision_tree_model.feature_importances_\n",
        "\n",
        "# Convert to DataFrame\n",
        "feature_names = X_train_transformed.columns\n",
        "feature_importance_df = pd.DataFrame({'Feature': feature_names, 'Importance': feature_importances})\n",
        "\n",
        "# Sort features by importance\n",
        "feature_importance_df = feature_importance_df.sort_values(by='Importance', ascending=False)\n",
        "\n",
        "# Plot Feature Importance\n",
        "plt.figure(figsize=(10, 5))\n",
        "plt.barh(feature_importance_df['Feature'], feature_importance_df['Importance'], color='skyblue')\n",
        "plt.xlabel('Feature Importance Score')\n",
        "plt.ylabel('Features')\n",
        "plt.title('Feature Importance in Decision Tree Model')\n",
        "plt.gca().invert_yaxis()  # Flip for better readability\n",
        "plt.show()"
      ]
    },
    {
      "cell_type": "code",
      "execution_count": null,
      "metadata": {
        "colab": {
          "base_uri": "https://localhost:8080/"
        },
        "id": "XZukUker6aES",
        "outputId": "5b9b8f50-82d3-4d35-d176-19466182e062"
      },
      "outputs": [
        {
          "name": "stdout",
          "output_type": "stream",
          "text": [
            "Best Hyperparameters: {'max_depth': None, 'min_samples_leaf': 1, 'min_samples_split': 2}\n"
          ]
        }
      ],
      "source": [
        "from sklearn.model_selection import GridSearchCV\n",
        "\n",
        "# Define hyperparameter grid\n",
        "param_grid = {\n",
        "    'max_depth': [3, 5, 10, None],\n",
        "    'min_samples_split': [2, 5, 10],\n",
        "    'min_samples_leaf': [1, 2, 4]\n",
        "}\n",
        "\n",
        "# Perform Grid Search\n",
        "grid_search = GridSearchCV(DecisionTreeRegressor(), param_grid, cv=5, scoring='r2', n_jobs=-1)\n",
        "grid_search.fit(X_train_transformed, y_train)\n",
        "\n",
        "# Get best model\n",
        "best_model = grid_search.best_estimator_\n",
        "print(\"Best Hyperparameters:\", grid_search.best_params_)\n"
      ]
    },
    {
      "cell_type": "code",
      "execution_count": null,
      "metadata": {
        "colab": {
          "base_uri": "https://localhost:8080/"
        },
        "id": "xE0i5ou75lPt",
        "outputId": "ca8c599e-b174-4180-f130-994dd97f6139"
      },
      "outputs": [
        {
          "name": "stdout",
          "output_type": "stream",
          "text": [
            "Optimized Model Performance:\n",
            "Mean Absolute Error (MAE): 2699.347903444599\n",
            "Mean Squared Error (MSE): 1361436648.7637815\n",
            "R-Squared Score: 0.9956211748900357\n"
          ]
        }
      ],
      "source": [
        "# Train model with best parameters\n",
        "best_model.fit(X_train_transformed, y_train)\n",
        "\n",
        "# Make Predictions\n",
        "y_pred_best = best_model.predict(X_test_transformed)\n",
        "\n",
        "# Evaluate Performance\n",
        "mae_best = mean_absolute_error(y_test, y_pred_best)\n",
        "mse_best = mean_squared_error(y_test, y_pred_best)\n",
        "r2_best = r2_score(y_test, y_pred_best)\n",
        "\n",
        "print(\"Optimized Model Performance:\")\n",
        "print(\"Mean Absolute Error (MAE):\", mae_best)\n",
        "print(\"Mean Squared Error (MSE):\", mse_best)\n",
        "print(\"R-Squared Score:\", r2_best)\n"
      ]
    },
    {
      "cell_type": "code",
      "execution_count": null,
      "metadata": {
        "colab": {
          "base_uri": "https://localhost:8080/",
          "height": 564
        },
        "id": "SaGvGkvD8fLM",
        "outputId": "51ee97f7-9e21-4006-e923-c654023c8f0b"
      },
      "outputs": [
        {
          "data": {
            "image/png": "[encoded data removed]",
            "text/plain": [
              "<Figure size 800x600 with 1 Axes>"
            ]
          },
          "metadata": {},
          "output_type": "display_data"
        }
      ],
      "source": [
        "plt.figure(figsize=(8, 6))\n",
        "plt.scatter(y_test, y_pred_best, color='blue', alpha=0.5)\n",
        "plt.plot([min(y_test), max(y_test)], [min(y_test), max(y_test)], '--', color='red')\n",
        "plt.xlabel('Actual Production')\n",
        "plt.ylabel('Predicted Production')\n",
        "plt.title('Actual vs Predicted Production')\n",
        "plt.show()\n"
      ]
    },
    {
      "cell_type": "code",
      "execution_count": null,
      "metadata": {
        "id": "rVSD4Z2h8ilt"
      },
      "outputs": [],
      "source": [
        "import joblib\n",
        "\n",
        "# Save the trained model\n",
        "joblib.dump(best_model, \"decision_tree_crop_production.pkl\")\n",
        "\n",
        "# Load the model when needed\n",
        "loaded_model = joblib.load(\"decision_tree_crop_production.pkl\")\n"
      ]
    },
    {
      "cell_type": "code",
      "execution_count": null,
      "metadata": {
        "colab": {
          "base_uri": "https://localhost:8080/"
        },
        "id": "rKB2s6RM8uZN",
        "outputId": "4efbe8e0-9d06-45ec-f055-d278b5f85964"
      },
      "outputs": [
        {
          "name": "stdout",
          "output_type": "stream",
          "text": [
            "📊 Model Accuracy Metrics:\n",
            "✅ Mean Absolute Error (MAE): 27.03\n",
            "✅ Mean Squared Error (MSE): 13615946.50\n",
            "✅ Root Mean Squared Error (RMSE): 369.00\n",
            "✅ R-Squared Score (R²): 0.9956\n"
          ]
        }
      ],
      "source": [
        "from sklearn.metrics import mean_absolute_error, mean_squared_error, r2_score\n",
        "import numpy as np\n",
        "\n",
        "# Make predictions on the test set\n",
        "y_pred = decision_tree_model.predict(X_test_transformed)\n",
        "\n",
        "# Calculate Accuracy Metrics\n",
        "mae = mean_absolute_error(y_test, y_pred)\n",
        "mse = mean_squared_error(y_test, y_pred)\n",
        "rmse = np.sqrt(mse)\n",
        "r2 = r2_score(y_test, y_pred)\n",
        "\n",
        "print(\"📊 Model Accuracy Metrics:\")\n",
        "print(f\"✅ Mean Absolute Error (MAE): {mae / 100:.2f}\")\n",
        "print(f\"✅ Mean Squared Error (MSE): {mse / 100:.2f}\")\n",
        "print(f\"✅ Root Mean Squared Error (RMSE): {rmse / 100:.2f}\")\n",
        "print(f\"✅ R-Squared Score (R²): {r2:.4f}\")"
      ]
    },
    {
      "cell_type": "code",
      "execution_count": null,
      "metadata": {
        "colab": {
          "base_uri": "https://localhost:8080/"
        },
        "id": "HNDjjj-b9CAr",
        "outputId": "636e02ee-58f3-4f14-8f6f-f8f607324718"
      },
      "outputs": [
        {
          "name": "stdout",
          "output_type": "stream",
          "text": [
            "📌 Cross-Validation R² Scores: [0.99159414 0.99380121 0.99612816 0.99183933 0.99212896]\n",
            "📊 Average R² Score: 0.9931\n"
          ]
        }
      ],
      "source": [
        "from sklearn.model_selection import cross_val_score\n",
        "\n",
        "# Perform cross-validation (using R² as metric)\n",
        "cv_scores = cross_val_score(decision_tree_model, X_train_transformed, y_train, cv=5, scoring='r2')\n",
        "\n",
        "# Print Cross-Validation Scores\n",
        "print(f\"📌 Cross-Validation R² Scores: {cv_scores}\")\n",
        "print(f\"📊 Average R² Score: {np.mean(cv_scores):.4f}\")\n"
      ]
    },
    {
      "cell_type": "code",
      "execution_count": null,
      "metadata": {
        "colab": {
          "base_uri": "https://localhost:8080/"
        },
        "id": "u_qNJzX-CGIr",
        "outputId": "1f164b89-e895-40e0-b184-18850a10e577"
      },
      "outputs": [
        {
          "data": {
            "text/plain": [
              "['.config',\n",
              " 'decision_tree_crop_production.pkl',\n",
              " 'India Agriculture Crop Production.csv',\n",
              " 'sample_data']"
            ]
          },
          "execution_count": 32,
          "metadata": {},
          "output_type": "execute_result"
        }
      ],
      "source": [
        "import os\n",
        "os.listdir('/content')\n"
      ]
    },
    {
      "cell_type": "code",
      "execution_count": null,
      "metadata": {
        "colab": {
          "base_uri": "https://localhost:8080/"
        },
        "id": "CJe_kXtgEz35",
        "outputId": "40e3328f-c5c3-40cd-96ec-e12484fc4de0"
      },
      "outputs": [
        {
          "name": "stderr",
          "output_type": "stream",
          "text": [
            "<ipython-input-33-6124c82ff8c8>:15: FutureWarning: A value is trying to be set on a copy of a DataFrame or Series through chained assignment using an inplace method.\n",
            "The behavior will change in pandas 3.0. This inplace method will never work because the intermediate object on which we are setting values always behaves as a copy.\n",
            "\n",
            "For example, when doing 'df[col].method(value, inplace=True)', try using 'df.method({col: value}, inplace=True)' or df[col] = df[col].method(value) instead, to perform the operation inplace on the original object.\n",
            "\n",
            "\n",
            "  df['Crop'].fillna(df['Crop'].mode()[0], inplace=True)\n",
            "<ipython-input-33-6124c82ff8c8>:16: FutureWarning: A value is trying to be set on a copy of a DataFrame or Series through chained assignment using an inplace method.\n",
            "The behavior will change in pandas 3.0. This inplace method will never work because the intermediate object on which we are setting values always behaves as a copy.\n",
            "\n",
            "For example, when doing 'df[col].method(value, inplace=True)', try using 'df.method({col: value}, inplace=True)' or df[col] = df[col].method(value) instead, to perform the operation inplace on the original object.\n",
            "\n",
            "\n",
            "  df['Season'].fillna(df['Season'].mode()[0], inplace=True)\n",
            "<ipython-input-33-6124c82ff8c8>:19: FutureWarning: A value is trying to be set on a copy of a DataFrame or Series through chained assignment using an inplace method.\n",
            "The behavior will change in pandas 3.0. This inplace method will never work because the intermediate object on which we are setting values always behaves as a copy.\n",
            "\n",
            "For example, when doing 'df[col].method(value, inplace=True)', try using 'df.method({col: value}, inplace=True)' or df[col] = df[col].method(value) instead, to perform the operation inplace on the original object.\n",
            "\n",
            "\n",
            "  df['Area'].fillna(df['Area'].median(), inplace=True)\n",
            "<ipython-input-33-6124c82ff8c8>:20: FutureWarning: A value is trying to be set on a copy of a DataFrame or Series through chained assignment using an inplace method.\n",
            "The behavior will change in pandas 3.0. This inplace method will never work because the intermediate object on which we are setting values always behaves as a copy.\n",
            "\n",
            "For example, when doing 'df[col].method(value, inplace=True)', try using 'df.method({col: value}, inplace=True)' or df[col] = df[col].method(value) instead, to perform the operation inplace on the original object.\n",
            "\n",
            "\n",
            "  df['Yield'].fillna(df['Yield'].median(), inplace=True)\n",
            "<ipython-input-33-6124c82ff8c8>:36: SettingWithCopyWarning: \n",
            "A value is trying to be set on a copy of a slice from a DataFrame.\n",
            "Try using .loc[row_indexer,col_indexer] = value instead\n",
            "\n",
            "See the caveats in the documentation: https://pandas.pydata.org/pandas-docs/stable/user_guide/indexing.html#returning-a-view-versus-a-copy\n",
            "  X[['Area']] = scaler.fit_transform(X[['Area']])\n"
          ]
        },
        {
          "name": "stdout",
          "output_type": "stream",
          "text": [
            "✅ MAE: 18.69\n",
            "✅ MSE: 96887.92\n",
            "✅ RMSE: 311.27\n",
            "✅ R² Score: 0.8796\n"
          ]
        }
      ],
      "source": [
        "import pandas as pd\n",
        "import numpy as np\n",
        "from sklearn.model_selection import train_test_split\n",
        "from sklearn.preprocessing import LabelEncoder, StandardScaler\n",
        "from sklearn.ensemble import RandomForestRegressor\n",
        "from sklearn.metrics import mean_absolute_error, mean_squared_error, r2_score\n",
        "\n",
        "# Load dataset\n",
        "df = pd.read_csv('/content/India Agriculture Crop Production.csv')\n",
        "\n",
        "# Drop missing values in 'Production'\n",
        "df.dropna(subset=['Production'], inplace=True)\n",
        "\n",
        "# Fill missing categorical values\n",
        "df['Crop'].fillna(df['Crop'].mode()[0], inplace=True)\n",
        "df['Season'].fillna(df['Season'].mode()[0], inplace=True)\n",
        "\n",
        "# Fill missing numerical values\n",
        "df['Area'].fillna(df['Area'].median(), inplace=True)\n",
        "df['Yield'].fillna(df['Yield'].median(), inplace=True)\n",
        "\n",
        "# Encode categorical variables\n",
        "encoder_mapping = {}\n",
        "categorical_cols = ['State', 'District', 'Crop', 'Season']\n",
        "for col in categorical_cols:\n",
        "    le = LabelEncoder()\n",
        "    df[col] = le.fit_transform(df[col])\n",
        "    encoder_mapping[col] = dict(zip(le.classes_, le.transform(le.classes_)))\n",
        "\n",
        "# Select features and target\n",
        "X = df[['State', 'District', 'Crop', 'Season', 'Area']]\n",
        "y = df['Yield']\n",
        "\n",
        "# Scale numerical values\n",
        "scaler = StandardScaler()\n",
        "X[['Area']] = scaler.fit_transform(X[['Area']])\n",
        "\n",
        "# Split data into training & testing sets\n",
        "X_train, X_test, y_train, y_test = train_test_split(X, y, test_size=0.2, random_state=42)\n",
        "\n",
        "# Train model\n",
        "model = RandomForestRegressor(n_estimators=100, random_state=42)\n",
        "model.fit(X_train, y_train)\n",
        "\n",
        "# Evaluate model\n",
        "y_pred = model.predict(X_test)\n",
        "print(f\"✅ MAE: {mean_absolute_error(y_test, y_pred):.2f}\")\n",
        "print(f\"✅ MSE: {mean_squared_error(y_test, y_pred):.2f}\")\n",
        "print(f\"✅ RMSE: {np.sqrt(mean_squared_error(y_test, y_pred)):.2f}\")\n",
        "#print(f\"✅ R² Score: {r2_score(y_test, y_pred):.4f}\")\n"
      ]
    },
    {
      "cell_type": "code",
      "execution_count": null,
      "metadata": {
        "colab": {
          "base_uri": "https://localhost:8080/",
          "height": 219,
          "referenced_widgets": [
            "09ce5027138b418084a708e0d7774f12",
            "7a2741907e7c415988e530a00a6c825d",
            "a1ad692725644e9aa82ebc03e7402fe7",
            "334dcaa1a33c4ec6a11bce7b47c0538f",
            "00de05a3ebc242de8c7d689864ebda34",
            "b00c47cbbff94c31a7dd6f9803549484",
            "5b30ab839e22491185b4ee491660817b",
            "047d9cc65eab402485f8f74694784712",
            "00773fa0118342b493f0e284dbbe842c",
            "237628997f5c4793a66c4ffffa7bd19d",
            "e76fafd310464baaa6d6b3e001d12253",
            "9334cd9cd1c14be0844a7340d57c3a2e",
            "9e112e129a0645ffb3744d1eb8e9d08b",
            "2a26f75cf522474ebcefdf32b8c6330b",
            "fa64a992486944cd956f566d26f67db3",
            "2c878dca428f474381c8d6e714587c89",
            "3916097559ee42acac4eae9d8fde042c",
            "97422481bfd34a5cb7116ededaba6e0f"
          ]
        },
        "id": "cRiAsHg0EEIP",
        "outputId": "8e2c38ac-1863-4b29-ee2c-75494756de48"
      },
      "outputs": [
        {
          "output_type": "display_data",
          "data": {
            "text/plain": [
              "Text(value='', description='State:')"
            ],
            "application/vnd.jupyter.widget-view+json": {
              "version_major": 2,
              "version_minor": 0,
              "model_id": "09ce5027138b418084a708e0d7774f12"
            }
          },
          "metadata": {}
        },
        {
          "output_type": "display_data",
          "data": {
            "text/plain": [
              "Text(value='', description='District:')"
            ],
            "application/vnd.jupyter.widget-view+json": {
              "version_major": 2,
              "version_minor": 0,
              "model_id": "334dcaa1a33c4ec6a11bce7b47c0538f"
            }
          },
          "metadata": {}
        },
        {
          "output_type": "display_data",
          "data": {
            "text/plain": [
              "Text(value='', description='Crop:')"
            ],
            "application/vnd.jupyter.widget-view+json": {
              "version_major": 2,
              "version_minor": 0,
              "model_id": "5b30ab839e22491185b4ee491660817b"
            }
          },
          "metadata": {}
        },
        {
          "output_type": "display_data",
          "data": {
            "text/plain": [
              "Text(value='', description='Season:')"
            ],
            "application/vnd.jupyter.widget-view+json": {
              "version_major": 2,
              "version_minor": 0,
              "model_id": "237628997f5c4793a66c4ffffa7bd19d"
            }
          },
          "metadata": {}
        },
        {
          "output_type": "display_data",
          "data": {
            "text/plain": [
              "FloatText(value=0.0, description='Area:')"
            ],
            "application/vnd.jupyter.widget-view+json": {
              "version_major": 2,
              "version_minor": 0,
              "model_id": "9e112e129a0645ffb3744d1eb8e9d08b"
            }
          },
          "metadata": {}
        },
        {
          "output_type": "display_data",
          "data": {
            "text/plain": [
              "Button(description='Predict Yield & Recommend Fertilizer', style=ButtonStyle())"
            ],
            "application/vnd.jupyter.widget-view+json": {
              "version_major": 2,
              "version_minor": 0,
              "model_id": "2c878dca428f474381c8d6e714587c89"
            }
          },
          "metadata": {}
        },
        {
          "output_type": "stream",
          "name": "stdout",
          "text": [
            "📊 Predicted Crop Yield: 1.45 kg\n"
          ]
        }
      ],
      "source": [
        "import ipywidgets as widgets\n",
        "from IPython.display import display\n",
        "\n",
        "# User input widgets\n",
        "state_input = widgets.Text(description=\"State:\")\n",
        "district_input = widgets.Text(description=\"District:\")\n",
        "crop_input = widgets.Text(description=\"Crop:\")\n",
        "season_input = widgets.Text(description=\"Season:\")\n",
        "area_input = widgets.FloatText(description=\"Area:\")\n",
        "submit_button = widgets.Button(description=\"Predict Yield & Recommend Fertilizer\")\n",
        "\n",
        "# Display input fields\n",
        "display(state_input, district_input, crop_input, season_input, area_input, submit_button)\n"
      ]
    },
    {
      "cell_type": "code",
      "execution_count": null,
      "metadata": {
        "id": "hZu9eBnhEGGm"
      },
      "outputs": [],
      "source": [
        "def preprocess_user_input(state, district, crop, season, area):\n",
        "    # Convert input into DataFrame\n",
        "    user_df = pd.DataFrame([[state, district, crop, season, area]],\n",
        "                           columns=['State', 'District', 'Crop', 'Season', 'Area'])\n",
        "\n",
        "    # Encode categorical variables\n",
        "    for col in ['State', 'District', 'Crop', 'Season']:\n",
        "        if col in encoder_mapping:\n",
        "            user_df[col] = user_df[col].map(encoder_mapping[col]).fillna(0)\n",
        "\n",
        "    # Scale numerical data\n",
        "    user_df[['Area']] = scaler.transform(user_df[['Area']])\n",
        "\n",
        "    return user_df\n"
      ]
    },
    {
      "cell_type": "code",
      "execution_count": null,
      "metadata": {
        "id": "Qycw_gy0EYnT"
      },
      "outputs": [],
      "source": [
        "def predict_yield(user_df):\n",
        "    prediction = model.predict(user_df)\n",
        "    return prediction[0]\n"
      ]
    },
    {
      "cell_type": "code",
      "execution_count": null,
      "metadata": {
        "id": "PWIL4wsHEci4"
      },
      "outputs": [],
      "source": [
        "def on_submit_clicked(b):\n",
        "    user_df = preprocess_user_input(state_input.value, district_input.value, crop_input.value, season_input.value, area_input.value)\n",
        "    predicted_yield = predict_yield(user_df)\n",
        "    #fertilizer_suggestion = recommend_fertilizer(predicted_yield)\n",
        "\n",
        "    print(f\"📊 Predicted Crop Yield: {predicted_yield:.2f}\")\n",
        "    #print(f\"💡 {fertilizer_suggestion}\")\n",
        "\n",
        "# Attach function to button click event\n",
        "submit_button.on_click(on_submit_clicked)\n"
      ]
    },
    {
      "cell_type": "code",
      "execution_count": null,
      "metadata": {
        "id": "TIuj_JEqEe8s"
      },
      "outputs": [],
      "source": []
    }
  ],
  "metadata": {
    "colab": {
      "provenance": []
    },
    "kernelspec": {
      "display_name": "Python 3",
      "name": "python3"
    },
    "language_info": {
      "name": "python"
    },
    "widgets": {
      "application/vnd.jupyter.widget-state+json": {
        "09ce5027138b418084a708e0d7774f12": {
          "model_module": "@jupyter-widgets/controls",
          "model_name": "TextModel",
          "model_module_version": "1.5.0",
          "state": {
            "_dom_classes": [],
            "_model_module": "@jupyter-widgets/controls",
            "_model_module_version": "1.5.0",
            "_model_name": "TextModel",
            "_view_count": null,
            "_view_module": "@jupyter-widgets/controls",
            "_view_module_version": "1.5.0",
            "_view_name": "TextView",
            "continuous_update": true,
            "description": "State:",
            "description_tooltip": null,
            "disabled": false,
            "layout": "IPY_MODEL_7a2741907e7c415988e530a00a6c825d",
            "placeholder": "​",
            "style": "IPY_MODEL_a1ad692725644e9aa82ebc03e7402fe7",
            "value": "Maharashtra"
          }
        },
        "7a2741907e7c415988e530a00a6c825d": {
          "model_module": "@jupyter-widgets/base",
          "model_name": "LayoutModel",
          "model_module_version": "1.2.0",
          "state": {
            "_model_module": "@jupyter-widgets/base",
            "_model_module_version": "1.2.0",
            "_model_name": "LayoutModel",
            "_view_count": null,
            "_view_module": "@jupyter-widgets/base",
            "_view_module_version": "1.2.0",
            "_view_name": "LayoutView",
            "align_content": null,
            "align_items": null,
            "align_self": null,
            "border": null,
            "bottom": null,
            "display": null,
            "flex": null,
            "flex_flow": null,
            "grid_area": null,
            "grid_auto_columns": null,
            "grid_auto_flow": null,
            "grid_auto_rows": null,
            "grid_column": null,
            "grid_gap": null,
            "grid_row": null,
            "grid_template_areas": null,
            "grid_template_columns": null,
            "grid_template_rows": null,
            "height": null,
            "justify_content": null,
            "justify_items": null,
            "left": null,
            "margin": null,
            "max_height": null,
            "max_width": null,
            "min_height": null,
            "min_width": null,
            "object_fit": null,
            "object_position": null,
            "order": null,
            "overflow": null,
            "overflow_x": null,
            "overflow_y": null,
            "padding": null,
            "right": null,
            "top": null,
            "visibility": null,
            "width": null
          }
        },
        "a1ad692725644e9aa82ebc03e7402fe7": {
          "model_module": "@jupyter-widgets/controls",
          "model_name": "DescriptionStyleModel",
          "model_module_version": "1.5.0",
          "state": {
            "_model_module": "@jupyter-widgets/controls",
            "_model_module_version": "1.5.0",
            "_model_name": "DescriptionStyleModel",
            "_view_count": null,
            "_view_module": "@jupyter-widgets/base",
            "_view_module_version": "1.2.0",
            "_view_name": "StyleView",
            "description_width": ""
          }
        },
        "334dcaa1a33c4ec6a11bce7b47c0538f": {
          "model_module": "@jupyter-widgets/controls",
          "model_name": "TextModel",
          "model_module_version": "1.5.0",
          "state": {
            "_dom_classes": [],
            "_model_module": "@jupyter-widgets/controls",
            "_model_module_version": "1.5.0",
            "_model_name": "TextModel",
            "_view_count": null,
            "_view_module": "@jupyter-widgets/controls",
            "_view_module_version": "1.5.0",
            "_view_name": "TextView",
            "continuous_update": true,
            "description": "District:",
            "description_tooltip": null,
            "disabled": false,
            "layout": "IPY_MODEL_00de05a3ebc242de8c7d689864ebda34",
            "placeholder": "​",
            "style": "IPY_MODEL_b00c47cbbff94c31a7dd6f9803549484",
            "value": "Pune"
          }
        },
        "00de05a3ebc242de8c7d689864ebda34": {
          "model_module": "@jupyter-widgets/base",
          "model_name": "LayoutModel",
          "model_module_version": "1.2.0",
          "state": {
            "_model_module": "@jupyter-widgets/base",
            "_model_module_version": "1.2.0",
            "_model_name": "LayoutModel",
            "_view_count": null,
            "_view_module": "@jupyter-widgets/base",
            "_view_module_version": "1.2.0",
            "_view_name": "LayoutView",
            "align_content": null,
            "align_items": null,
            "align_self": null,
            "border": null,
            "bottom": null,
            "display": null,
            "flex": null,
            "flex_flow": null,
            "grid_area": null,
            "grid_auto_columns": null,
            "grid_auto_flow": null,
            "grid_auto_rows": null,
            "grid_column": null,
            "grid_gap": null,
            "grid_row": null,
            "grid_template_areas": null,
            "grid_template_columns": null,
            "grid_template_rows": null,
            "height": null,
            "justify_content": null,
            "justify_items": null,
            "left": null,
            "margin": null,
            "max_height": null,
            "max_width": null,
            "min_height": null,
            "min_width": null,
            "object_fit": null,
            "object_position": null,
            "order": null,
            "overflow": null,
            "overflow_x": null,
            "overflow_y": null,
            "padding": null,
            "right": null,
            "top": null,
            "visibility": null,
            "width": null
          }
        },
        "b00c47cbbff94c31a7dd6f9803549484": {
          "model_module": "@jupyter-widgets/controls",
          "model_name": "DescriptionStyleModel",
          "model_module_version": "1.5.0",
          "state": {
            "_model_module": "@jupyter-widgets/controls",
            "_model_module_version": "1.5.0",
            "_model_name": "DescriptionStyleModel",
            "_view_count": null,
            "_view_module": "@jupyter-widgets/base",
            "_view_module_version": "1.2.0",
            "_view_name": "StyleView",
            "description_width": ""
          }
        },
        "5b30ab839e22491185b4ee491660817b": {
          "model_module": "@jupyter-widgets/controls",
          "model_name": "TextModel",
          "model_module_version": "1.5.0",
          "state": {
            "_dom_classes": [],
            "_model_module": "@jupyter-widgets/controls",
            "_model_module_version": "1.5.0",
            "_model_name": "TextModel",
            "_view_count": null,
            "_view_module": "@jupyter-widgets/controls",
            "_view_module_version": "1.5.0",
            "_view_name": "TextView",
            "continuous_update": true,
            "description": "Crop:",
            "description_tooltip": null,
            "disabled": false,
            "layout": "IPY_MODEL_047d9cc65eab402485f8f74694784712",
            "placeholder": "​",
            "style": "IPY_MODEL_00773fa0118342b493f0e284dbbe842c",
            "value": "Wheat"
          }
        },
        "047d9cc65eab402485f8f74694784712": {
          "model_module": "@jupyter-widgets/base",
          "model_name": "LayoutModel",
          "model_module_version": "1.2.0",
          "state": {
            "_model_module": "@jupyter-widgets/base",
            "_model_module_version": "1.2.0",
            "_model_name": "LayoutModel",
            "_view_count": null,
            "_view_module": "@jupyter-widgets/base",
            "_view_module_version": "1.2.0",
            "_view_name": "LayoutView",
            "align_content": null,
            "align_items": null,
            "align_self": null,
            "border": null,
            "bottom": null,
            "display": null,
            "flex": null,
            "flex_flow": null,
            "grid_area": null,
            "grid_auto_columns": null,
            "grid_auto_flow": null,
            "grid_auto_rows": null,
            "grid_column": null,
            "grid_gap": null,
            "grid_row": null,
            "grid_template_areas": null,
            "grid_template_columns": null,
            "grid_template_rows": null,
            "height": null,
            "justify_content": null,
            "justify_items": null,
            "left": null,
            "margin": null,
            "max_height": null,
            "max_width": null,
            "min_height": null,
            "min_width": null,
            "object_fit": null,
            "object_position": null,
            "order": null,
            "overflow": null,
            "overflow_x": null,
            "overflow_y": null,
            "padding": null,
            "right": null,
            "top": null,
            "visibility": null,
            "width": null
          }
        },
        "00773fa0118342b493f0e284dbbe842c": {
          "model_module": "@jupyter-widgets/controls",
          "model_name": "DescriptionStyleModel",
          "model_module_version": "1.5.0",
          "state": {
            "_model_module": "@jupyter-widgets/controls",
            "_model_module_version": "1.5.0",
            "_model_name": "DescriptionStyleModel",
            "_view_count": null,
            "_view_module": "@jupyter-widgets/base",
            "_view_module_version": "1.2.0",
            "_view_name": "StyleView",
            "description_width": ""
          }
        },
        "237628997f5c4793a66c4ffffa7bd19d": {
          "model_module": "@jupyter-widgets/controls",
          "model_name": "TextModel",
          "model_module_version": "1.5.0",
          "state": {
            "_dom_classes": [],
            "_model_module": "@jupyter-widgets/controls",
            "_model_module_version": "1.5.0",
            "_model_name": "TextModel",
            "_view_count": null,
            "_view_module": "@jupyter-widgets/controls",
            "_view_module_version": "1.5.0",
            "_view_name": "TextView",
            "continuous_update": true,
            "description": "Season:",
            "description_tooltip": null,
            "disabled": false,
            "layout": "IPY_MODEL_e76fafd310464baaa6d6b3e001d12253",
            "placeholder": "​",
            "style": "IPY_MODEL_9334cd9cd1c14be0844a7340d57c3a2e",
            "value": "Rabi"
          }
        },
        "e76fafd310464baaa6d6b3e001d12253": {
          "model_module": "@jupyter-widgets/base",
          "model_name": "LayoutModel",
          "model_module_version": "1.2.0",
          "state": {
            "_model_module": "@jupyter-widgets/base",
            "_model_module_version": "1.2.0",
            "_model_name": "LayoutModel",
            "_view_count": null,
            "_view_module": "@jupyter-widgets/base",
            "_view_module_version": "1.2.0",
            "_view_name": "LayoutView",
            "align_content": null,
            "align_items": null,
            "align_self": null,
            "border": null,
            "bottom": null,
            "display": null,
            "flex": null,
            "flex_flow": null,
            "grid_area": null,
            "grid_auto_columns": null,
            "grid_auto_flow": null,
            "grid_auto_rows": null,
            "grid_column": null,
            "grid_gap": null,
            "grid_row": null,
            "grid_template_areas": null,
            "grid_template_columns": null,
            "grid_template_rows": null,
            "height": null,
            "justify_content": null,
            "justify_items": null,
            "left": null,
            "margin": null,
            "max_height": null,
            "max_width": null,
            "min_height": null,
            "min_width": null,
            "object_fit": null,
            "object_position": null,
            "order": null,
            "overflow": null,
            "overflow_x": null,
            "overflow_y": null,
            "padding": null,
            "right": null,
            "top": null,
            "visibility": null,
            "width": null
          }
        },
        "9334cd9cd1c14be0844a7340d57c3a2e": {
          "model_module": "@jupyter-widgets/controls",
          "model_name": "DescriptionStyleModel",
          "model_module_version": "1.5.0",
          "state": {
            "_model_module": "@jupyter-widgets/controls",
            "_model_module_version": "1.5.0",
            "_model_name": "DescriptionStyleModel",
            "_view_count": null,
            "_view_module": "@jupyter-widgets/base",
            "_view_module_version": "1.2.0",
            "_view_name": "StyleView",
            "description_width": ""
          }
        },
        "9e112e129a0645ffb3744d1eb8e9d08b": {
          "model_module": "@jupyter-widgets/controls",
          "model_name": "FloatTextModel",
          "model_module_version": "1.5.0",
          "state": {
            "_dom_classes": [],
            "_model_module": "@jupyter-widgets/controls",
            "_model_module_version": "1.5.0",
            "_model_name": "FloatTextModel",
            "_view_count": null,
            "_view_module": "@jupyter-widgets/controls",
            "_view_module_version": "1.5.0",
            "_view_name": "FloatTextView",
            "continuous_update": false,
            "description": "Area:",
            "description_tooltip": null,
            "disabled": false,
            "layout": "IPY_MODEL_2a26f75cf522474ebcefdf32b8c6330b",
            "step": null,
            "style": "IPY_MODEL_fa64a992486944cd956f566d26f67db3",
            "value": 5
          }
        },
        "2a26f75cf522474ebcefdf32b8c6330b": {
          "model_module": "@jupyter-widgets/base",
          "model_name": "LayoutModel",
          "model_module_version": "1.2.0",
          "state": {
            "_model_module": "@jupyter-widgets/base",
            "_model_module_version": "1.2.0",
            "_model_name": "LayoutModel",
            "_view_count": null,
            "_view_module": "@jupyter-widgets/base",
            "_view_module_version": "1.2.0",
            "_view_name": "LayoutView",
            "align_content": null,
            "align_items": null,
            "align_self": null,
            "border": null,
            "bottom": null,
            "display": null,
            "flex": null,
            "flex_flow": null,
            "grid_area": null,
            "grid_auto_columns": null,
            "grid_auto_flow": null,
            "grid_auto_rows": null,
            "grid_column": null,
            "grid_gap": null,
            "grid_row": null,
            "grid_template_areas": null,
            "grid_template_columns": null,
            "grid_template_rows": null,
            "height": null,
            "justify_content": null,
            "justify_items": null,
            "left": null,
            "margin": null,
            "max_height": null,
            "max_width": null,
            "min_height": null,
            "min_width": null,
            "object_fit": null,
            "object_position": null,
            "order": null,
            "overflow": null,
            "overflow_x": null,
            "overflow_y": null,
            "padding": null,
            "right": null,
            "top": null,
            "visibility": null,
            "width": null
          }
        },
        "fa64a992486944cd956f566d26f67db3": {
          "model_module": "@jupyter-widgets/controls",
          "model_name": "DescriptionStyleModel",
          "model_module_version": "1.5.0",
          "state": {
            "_model_module": "@jupyter-widgets/controls",
            "_model_module_version": "1.5.0",
            "_model_name": "DescriptionStyleModel",
            "_view_count": null,
            "_view_module": "@jupyter-widgets/base",
            "_view_module_version": "1.2.0",
            "_view_name": "StyleView",
            "description_width": ""
          }
        },
        "2c878dca428f474381c8d6e714587c89": {
          "model_module": "@jupyter-widgets/controls",
          "model_name": "ButtonModel",
          "model_module_version": "1.5.0",
          "state": {
            "_dom_classes": [],
            "_model_module": "@jupyter-widgets/controls",
            "_model_module_version": "1.5.0",
            "_model_name": "ButtonModel",
            "_view_count": null,
            "_view_module": "@jupyter-widgets/controls",
            "_view_module_version": "1.5.0",
            "_view_name": "ButtonView",
            "button_style": "",
            "description": "Predict Yield & Recommend Fertilizer",
            "disabled": false,
            "icon": "",
            "layout": "IPY_MODEL_3916097559ee42acac4eae9d8fde042c",
            "style": "IPY_MODEL_97422481bfd34a5cb7116ededaba6e0f",
            "tooltip": ""
          }
        },
        "3916097559ee42acac4eae9d8fde042c": {
          "model_module": "@jupyter-widgets/base",
          "model_name": "LayoutModel",
          "model_module_version": "1.2.0",
          "state": {
            "_model_module": "@jupyter-widgets/base",
            "_model_module_version": "1.2.0",
            "_model_name": "LayoutModel",
            "_view_count": null,
            "_view_module": "@jupyter-widgets/base",
            "_view_module_version": "1.2.0",
            "_view_name": "LayoutView",
            "align_content": null,
            "align_items": null,
            "align_self": null,
            "border": null,
            "bottom": null,
            "display": null,
            "flex": null,
            "flex_flow": null,
            "grid_area": null,
            "grid_auto_columns": null,
            "grid_auto_flow": null,
            "grid_auto_rows": null,
            "grid_column": null,
            "grid_gap": null,
            "grid_row": null,
            "grid_template_areas": null,
            "grid_template_columns": null,
            "grid_template_rows": null,
            "height": null,
            "justify_content": null,
            "justify_items": null,
            "left": null,
            "margin": null,
            "max_height": null,
            "max_width": null,
            "min_height": null,
            "min_width": null,
            "object_fit": null,
            "object_position": null,
            "order": null,
            "overflow": null,
            "overflow_x": null,
            "overflow_y": null,
            "padding": null,
            "right": null,
            "top": null,
            "visibility": null,
            "width": null
          }
        },
        "97422481bfd34a5cb7116ededaba6e0f": {
          "model_module": "@jupyter-widgets/controls",
          "model_name": "ButtonStyleModel",
          "model_module_version": "1.5.0",
          "state": {
            "_model_module": "@jupyter-widgets/controls",
            "_model_module_version": "1.5.0",
            "_model_name": "ButtonStyleModel",
            "_view_count": null,
            "_view_module": "@jupyter-widgets/base",
            "_view_module_version": "1.2.0",
            "_view_name": "StyleView",
            "button_color": null,
            "font_weight": ""
          }
        }
      }
    }
  },
  "nbformat": 4,
  "nbformat_minor": 0
}