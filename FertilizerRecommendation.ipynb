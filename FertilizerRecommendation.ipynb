{
  "nbformat": 4,
  "nbformat_minor": 0,
  "metadata": {
    "colab": {
      "provenance": []
    },
    "kernelspec": {
      "name": "python3",
      "display_name": "Python 3"
    },
    "language_info": {
      "name": "python"
    }
  },
  "cells": [
    {
      "cell_type": "code",
      "execution_count": null,
      "metadata": {
        "colab": {
          "base_uri": "https://localhost:8080/"
        },
        "id": "mb9aUNu2herU",
        "outputId": "3d002012-4a07-47ce-a56d-b8dc6f36d1b5"
      },
      "outputs": [
        {
          "output_type": "stream",
          "name": "stdout",
          "text": [
            "Requirement already satisfied: scikit-learn in /usr/local/lib/python3.11/dist-packages (1.2.2)\n",
            "Requirement already satisfied: xgboost in /usr/local/lib/python3.11/dist-packages (2.1.4)\n",
            "Requirement already satisfied: seaborn in /usr/local/lib/python3.11/dist-packages (0.13.2)\n",
            "Requirement already satisfied: matplotlib in /usr/local/lib/python3.11/dist-packages (3.10.0)\n",
            "Requirement already satisfied: pandas in /usr/local/lib/python3.11/dist-packages (2.2.2)\n",
            "Requirement already satisfied: numpy in /usr/local/lib/python3.11/dist-packages (1.26.4)\n",
            "Requirement already satisfied: scipy>=1.3.2 in /usr/local/lib/python3.11/dist-packages (from scikit-learn) (1.13.1)\n",
            "Requirement already satisfied: joblib>=1.1.1 in /usr/local/lib/python3.11/dist-packages (from scikit-learn) (1.4.2)\n",
            "Requirement already satisfied: threadpoolctl>=2.0.0 in /usr/local/lib/python3.11/dist-packages (from scikit-learn) (3.5.0)\n",
            "Requirement already satisfied: nvidia-nccl-cu12 in /usr/local/lib/python3.11/dist-packages (from xgboost) (2.21.5)\n",
            "Requirement already satisfied: contourpy>=1.0.1 in /usr/local/lib/python3.11/dist-packages (from matplotlib) (1.3.1)\n",
            "Requirement already satisfied: cycler>=0.10 in /usr/local/lib/python3.11/dist-packages (from matplotlib) (0.12.1)\n",
            "Requirement already satisfied: fonttools>=4.22.0 in /usr/local/lib/python3.11/dist-packages (from matplotlib) (4.56.0)\n",
            "Requirement already satisfied: kiwisolver>=1.3.1 in /usr/local/lib/python3.11/dist-packages (from matplotlib) (1.4.8)\n",
            "Requirement already satisfied: packaging>=20.0 in /usr/local/lib/python3.11/dist-packages (from matplotlib) (24.2)\n",
            "Requirement already satisfied: pillow>=8 in /usr/local/lib/python3.11/dist-packages (from matplotlib) (11.1.0)\n",
            "Requirement already satisfied: pyparsing>=2.3.1 in /usr/local/lib/python3.11/dist-packages (from matplotlib) (3.2.1)\n",
            "Requirement already satisfied: python-dateutil>=2.7 in /usr/local/lib/python3.11/dist-packages (from matplotlib) (2.8.2)\n",
            "Requirement already satisfied: pytz>=2020.1 in /usr/local/lib/python3.11/dist-packages (from pandas) (2025.1)\n",
            "Requirement already satisfied: tzdata>=2022.7 in /usr/local/lib/python3.11/dist-packages (from pandas) (2025.1)\n",
            "Requirement already satisfied: six>=1.5 in /usr/local/lib/python3.11/dist-packages (from python-dateutil>=2.7->matplotlib) (1.17.0)\n"
          ]
        }
      ],
      "source": [
        "!pip install scikit-learn xgboost seaborn matplotlib pandas numpy\n"
      ]
    },
    {
      "cell_type": "code",
      "source": [
        "import os\n",
        "import numpy as np\n",
        "import pandas as pd\n",
        "import matplotlib.pyplot as plt\n",
        "import seaborn as sns\n",
        "import pickle\n",
        "\n",
        "from sklearn.model_selection import train_test_split\n",
        "from sklearn.preprocessing import LabelEncoder\n",
        "from sklearn.metrics import accuracy_score, classification_report, confusion_matrix\n",
        "from sklearn.tree import DecisionTreeClassifier\n",
        "from sklearn.ensemble import RandomForestClassifier\n",
        "import xgboost as xgb\n"
      ],
      "metadata": {
        "id": "Vm1Dv56Niybm"
      },
      "execution_count": null,
      "outputs": []
    },
    {
      "cell_type": "code",
      "source": [
        "df = pd.read_csv(\"/content/Fertilizer Prediction.csv\")\n"
      ],
      "metadata": {
        "id": "mUqXLf9ui2Q3"
      },
      "execution_count": null,
      "outputs": []
    },
    {
      "cell_type": "code",
      "source": [
        "df.head()\n",
        "df.info()\n",
        "df.isnull().sum()\n"
      ],
      "metadata": {
        "colab": {
          "base_uri": "https://localhost:8080/",
          "height": 652
        },
        "id": "S2NqgRQhjN5P",
        "outputId": "c2d0f7bb-36ca-4fa9-a9ba-aa728210a296"
      },
      "execution_count": null,
      "outputs": [
        {
          "output_type": "stream",
          "name": "stdout",
          "text": [
            "<class 'pandas.core.frame.DataFrame'>\n",
            "RangeIndex: 99 entries, 0 to 98\n",
            "Data columns (total 9 columns):\n",
            " #   Column           Non-Null Count  Dtype \n",
            "---  ------           --------------  ----- \n",
            " 0   Temparature      99 non-null     int64 \n",
            " 1   Humidity         99 non-null     int64 \n",
            " 2   Moisture         99 non-null     int64 \n",
            " 3   Soil Type        99 non-null     object\n",
            " 4   Crop Type        99 non-null     object\n",
            " 5   Nitrogen         99 non-null     int64 \n",
            " 6   Potassium        99 non-null     int64 \n",
            " 7   Phosphorous      99 non-null     int64 \n",
            " 8   Fertilizer Name  99 non-null     object\n",
            "dtypes: int64(6), object(3)\n",
            "memory usage: 7.1+ KB\n"
          ]
        },
        {
          "output_type": "execute_result",
          "data": {
            "text/plain": [
              "Temparature        0\n",
              "Humidity           0\n",
              "Moisture           0\n",
              "Soil Type          0\n",
              "Crop Type          0\n",
              "Nitrogen           0\n",
              "Potassium          0\n",
              "Phosphorous        0\n",
              "Fertilizer Name    0\n",
              "dtype: int64"
            ],
            "text/html": [
              "<div>\n",
              "<style scoped>\n",
              "    .dataframe tbody tr th:only-of-type {\n",
              "        vertical-align: middle;\n",
              "    }\n",
              "\n",
              "    .dataframe tbody tr th {\n",
              "        vertical-align: top;\n",
              "    }\n",
              "\n",
              "    .dataframe thead th {\n",
              "        text-align: right;\n",
              "    }\n",
              "</style>\n",
              "<table border=\"1\" class=\"dataframe\">\n",
              "  <thead>\n",
              "    <tr style=\"text-align: right;\">\n",
              "      <th></th>\n",
              "      <th>0</th>\n",
              "    </tr>\n",
              "  </thead>\n",
              "  <tbody>\n",
              "    <tr>\n",
              "      <th>Temparature</th>\n",
              "      <td>0</td>\n",
              "    </tr>\n",
              "    <tr>\n",
              "      <th>Humidity</th>\n",
              "      <td>0</td>\n",
              "    </tr>\n",
              "    <tr>\n",
              "      <th>Moisture</th>\n",
              "      <td>0</td>\n",
              "    </tr>\n",
              "    <tr>\n",
              "      <th>Soil Type</th>\n",
              "      <td>0</td>\n",
              "    </tr>\n",
              "    <tr>\n",
              "      <th>Crop Type</th>\n",
              "      <td>0</td>\n",
              "    </tr>\n",
              "    <tr>\n",
              "      <th>Nitrogen</th>\n",
              "      <td>0</td>\n",
              "    </tr>\n",
              "    <tr>\n",
              "      <th>Potassium</th>\n",
              "      <td>0</td>\n",
              "    </tr>\n",
              "    <tr>\n",
              "      <th>Phosphorous</th>\n",
              "      <td>0</td>\n",
              "    </tr>\n",
              "    <tr>\n",
              "      <th>Fertilizer Name</th>\n",
              "      <td>0</td>\n",
              "    </tr>\n",
              "  </tbody>\n",
              "</table>\n",
              "</div><br><label><b>dtype:</b> int64</label>"
            ]
          },
          "metadata": {},
          "execution_count": 6
        }
      ]
    },
    {
      "cell_type": "code",
      "source": [
        "le = LabelEncoder()\n",
        "\n",
        "df[\"Soil Type\"] = le.fit_transform(df[\"Soil Type\"])\n",
        "print(\"Soil type mappings:\")\n",
        "for index, soil in enumerate(le.classes_):\n",
        "    print(f\"{soil} : {index}\")\n",
        "\n",
        "df[\"Crop Type\"] = le.fit_transform(df[\"Crop Type\"])\n",
        "print(\"Crop mappings:\")\n",
        "for index, crop in enumerate(le.classes_):\n",
        "    print(f\"{crop} : {index}\")\n",
        "\n",
        "df[\"Fertilizer Name\"] = le.fit_transform(df[\"Fertilizer Name\"])\n",
        "print(\"Fertilizer mappings:\")\n",
        "for index, fertilizer in enumerate(le.classes_):\n",
        "    print(f\"{fertilizer} : {index}\")\n",
        "\n"
      ],
      "metadata": {
        "colab": {
          "base_uri": "https://localhost:8080/"
        },
        "id": "q-T85Pb0jQ3v",
        "outputId": "6eed8b43-4b89-4d2e-c2d8-35f79b5f462b"
      },
      "execution_count": null,
      "outputs": [
        {
          "output_type": "stream",
          "name": "stdout",
          "text": [
            "Soil type mappings:\n",
            "Black : 0\n",
            "Clayey : 1\n",
            "Loamy : 2\n",
            "Red : 3\n",
            "Sandy : 4\n",
            "Crop mappings:\n",
            "Barley : 0\n",
            "Cotton : 1\n",
            "Ground Nuts : 2\n",
            "Maize : 3\n",
            "Millets : 4\n",
            "Oil seeds : 5\n",
            "Paddy : 6\n",
            "Pulses : 7\n",
            "Sugarcane : 8\n",
            "Tobacco : 9\n",
            "Wheat : 10\n",
            "Fertilizer mappings:\n",
            "10-26-26 : 0\n",
            "14-35-14 : 1\n",
            "17-17-17 : 2\n",
            "20-20 : 3\n",
            "28-28 : 4\n",
            "DAP : 5\n",
            "Urea : 6\n"
          ]
        }
      ]
    },
    {
      "cell_type": "code",
      "source": [
        "#Visualize Data - Correlation Heatmap\n",
        "plt.figure(figsize=(10, 8))\n",
        "sns.heatmap(df.corr(), annot=True, cmap=\"coolwarm\", fmt=\".2f\", linewidths=0.5)\n",
        "plt.title('Correlation Heatmap')\n",
        "plt.show()\n"
      ],
      "metadata": {
        "colab": {
          "base_uri": "https://localhost:8080/",
          "height": 571
        },
        "id": "Fqie5zXdjUjx",
        "outputId": "f30641ce-807c-4cd1-a692-a4fa75ed9ed7"
      },
      "execution_count": null,
      "outputs": [
        {
          "output_type": "display_data",
          "data": {
            "text/plain": [
              "<Figure size 1000x800 with 2 Axes>"
            ],
            "image/png": "[encoded data removed]"
          },
          "metadata": {}
        }
      ]
    },
    {
      "cell_type": "code",
      "source": [
        "X = df.drop(columns=[\"Fertilizer Name\"])  # Features\n",
        "y = df[\"Fertilizer Name\"]  # Target variable\n"
      ],
      "metadata": {
        "id": "9SsTJOmUjeCD"
      },
      "execution_count": null,
      "outputs": []
    },
    {
      "cell_type": "code",
      "source": [
        "X_train, X_test, y_train, y_test = train_test_split(X, y, test_size=0.2, random_state=0)\n"
      ],
      "metadata": {
        "id": "_c8PnQOcjrV7"
      },
      "execution_count": null,
      "outputs": []
    },
    {
      "cell_type": "markdown",
      "source": [
        "Train the Machine Learning Models\n",
        "1. XGBoost Model\n",
        "2. Decision Tree Classifier\n",
        "3. Random Forest Classifier"
      ],
      "metadata": {
        "id": "jBnlMSuXj4wN"
      }
    },
    {
      "cell_type": "code",
      "source": [
        "# 1. XGBoost Model\n",
        "xgb_model = xgb.XGBClassifier()\n",
        "xgb_model.fit(X_train, y_train)\n",
        "\n",
        "y_pred_xgb = xgb_model.predict(X_test)\n",
        "accuracy_xgb = accuracy_score(y_test, y_pred_xgb)\n",
        "\n",
        "print(\"XGBoost Accuracy:\", accuracy_xgb)\n",
        "print(confusion_matrix(y_test, y_pred_xgb))\n",
        "print(classification_report(y_test, y_pred_xgb))\n"
      ],
      "metadata": {
        "colab": {
          "base_uri": "https://localhost:8080/"
        },
        "id": "l8F7X4mFjtiG",
        "outputId": "60061ad1-1816-44e3-ea04-852fa3422015"
      },
      "execution_count": null,
      "outputs": [
        {
          "output_type": "stream",
          "name": "stdout",
          "text": [
            "XGBoost Accuracy: 0.95\n",
            "[[2 1 0 0 0 0 0]\n",
            " [0 4 0 0 0 0 0]\n",
            " [0 0 1 0 0 0 0]\n",
            " [0 0 0 1 0 0 0]\n",
            " [0 0 0 0 5 0 0]\n",
            " [0 0 0 0 0 2 0]\n",
            " [0 0 0 0 0 0 4]]\n",
            "              precision    recall  f1-score   support\n",
            "\n",
            "           0       1.00      0.67      0.80         3\n",
            "           1       0.80      1.00      0.89         4\n",
            "           2       1.00      1.00      1.00         1\n",
            "           3       1.00      1.00      1.00         1\n",
            "           4       1.00      1.00      1.00         5\n",
            "           5       1.00      1.00      1.00         2\n",
            "           6       1.00      1.00      1.00         4\n",
            "\n",
            "    accuracy                           0.95        20\n",
            "   macro avg       0.97      0.95      0.96        20\n",
            "weighted avg       0.96      0.95      0.95        20\n",
            "\n"
          ]
        }
      ]
    },
    {
      "cell_type": "code",
      "source": [
        "# 2. Decision Tree Classifier\n",
        "\n",
        "tree_model = DecisionTreeClassifier(random_state=42)\n",
        "tree_model.fit(X_train, y_train)\n",
        "\n",
        "y_pred_tree = tree_model.predict(X_test)\n",
        "accuracy_tree = accuracy_score(y_test, y_pred_tree)\n",
        "\n",
        "print(\"Decision Tree Accuracy:\", accuracy_tree)\n",
        "print(confusion_matrix(y_test, y_pred_tree))\n",
        "print(classification_report(y_test, y_pred_tree))\n"
      ],
      "metadata": {
        "colab": {
          "base_uri": "https://localhost:8080/"
        },
        "id": "4LImj774jvfP",
        "outputId": "087de172-e452-48fe-ef0e-ae33531baad2"
      },
      "execution_count": null,
      "outputs": [
        {
          "output_type": "stream",
          "name": "stdout",
          "text": [
            "Decision Tree Accuracy: 0.9\n",
            "[[2 0 1 0 0 0 0]\n",
            " [0 3 1 0 0 0 0]\n",
            " [0 0 1 0 0 0 0]\n",
            " [0 0 0 1 0 0 0]\n",
            " [0 0 0 0 5 0 0]\n",
            " [0 0 0 0 0 2 0]\n",
            " [0 0 0 0 0 0 4]]\n",
            "              precision    recall  f1-score   support\n",
            "\n",
            "           0       1.00      0.67      0.80         3\n",
            "           1       1.00      0.75      0.86         4\n",
            "           2       0.33      1.00      0.50         1\n",
            "           3       1.00      1.00      1.00         1\n",
            "           4       1.00      1.00      1.00         5\n",
            "           5       1.00      1.00      1.00         2\n",
            "           6       1.00      1.00      1.00         4\n",
            "\n",
            "    accuracy                           0.90        20\n",
            "   macro avg       0.90      0.92      0.88        20\n",
            "weighted avg       0.97      0.90      0.92        20\n",
            "\n"
          ]
        }
      ]
    },
    {
      "cell_type": "code",
      "source": [
        "#3. Random Forest Classifier\n",
        "\n",
        "random_forest_model = RandomForestClassifier(n_estimators=100, random_state=42)\n",
        "random_forest_model.fit(X_train, y_train)\n",
        "\n",
        "y_pred_rf = random_forest_model.predict(X_test)\n",
        "accuracy_rf = accuracy_score(y_test, y_pred_rf)\n",
        "\n",
        "print(\"Random Forest Accuracy:\", accuracy_rf)\n",
        "print(confusion_matrix(y_test, y_pred_rf))\n",
        "print(classification_report(y_test, y_pred_rf))\n"
      ],
      "metadata": {
        "colab": {
          "base_uri": "https://localhost:8080/"
        },
        "id": "CpUIv5UpjxVu",
        "outputId": "a84f22f3-a134-47f1-836a-dd294930f91f"
      },
      "execution_count": null,
      "outputs": [
        {
          "output_type": "stream",
          "name": "stdout",
          "text": [
            "Random Forest Accuracy: 1.0\n",
            "[[3 0 0 0 0 0 0]\n",
            " [0 4 0 0 0 0 0]\n",
            " [0 0 1 0 0 0 0]\n",
            " [0 0 0 1 0 0 0]\n",
            " [0 0 0 0 5 0 0]\n",
            " [0 0 0 0 0 2 0]\n",
            " [0 0 0 0 0 0 4]]\n",
            "              precision    recall  f1-score   support\n",
            "\n",
            "           0       1.00      1.00      1.00         3\n",
            "           1       1.00      1.00      1.00         4\n",
            "           2       1.00      1.00      1.00         1\n",
            "           3       1.00      1.00      1.00         1\n",
            "           4       1.00      1.00      1.00         5\n",
            "           5       1.00      1.00      1.00         2\n",
            "           6       1.00      1.00      1.00         4\n",
            "\n",
            "    accuracy                           1.00        20\n",
            "   macro avg       1.00      1.00      1.00        20\n",
            "weighted avg       1.00      1.00      1.00        20\n",
            "\n"
          ]
        }
      ]
    },
    {
      "cell_type": "code",
      "source": [
        "#Save the Trained Model\n",
        "#Save the best-performing model - Random Forest\n",
        "\n",
        "pickle.dump(random_forest_model, open('/content/model.pkl', 'wb'))\n"
      ],
      "metadata": {
        "id": "Cz0ezdgOjz22"
      },
      "execution_count": null,
      "outputs": []
    },
    {
      "cell_type": "code",
      "source": [
        "#Load the model for later use:\n",
        "\n",
        "model = pickle.load(open('/content/model.pkl', 'rb'))\n"
      ],
      "metadata": {
        "id": "1RwKPzk_kRdk"
      },
      "execution_count": null,
      "outputs": []
    },
    {
      "cell_type": "code",
      "source": [
        "import numpy as np\n",
        "import pandas as pd\n",
        "from sklearn.preprocessing import LabelEncoder\n",
        "import pickle\n",
        "\n",
        "# Updated soil and crop types\n",
        "available_soil_types = ['Sandy', 'Loamy', 'Black', 'Red', 'Clayey']\n",
        "available_crop_types = ['Maize', 'Sugarcane', 'Cotton', 'Tobacco', 'Paddy', 'Barley', 'Wheat', 'Millets', 'Oil seeds', 'Pulses', 'Ground Nuts']\n",
        "\n",
        "# Load dataset\n",
        "df = pd.read_csv(\"/content/Fertilizer Prediction.csv\")\n",
        "\n",
        "# Encoding manually defined soil and crop types\n",
        "le_soil = LabelEncoder()\n",
        "df[\"Soil Type\"] = le_soil.fit_transform(df[\"Soil Type\"])\n",
        "\n",
        "le_crop = LabelEncoder()\n",
        "df[\"Crop Type\"] = le_crop.fit_transform(df[\"Crop Type\"])\n",
        "\n",
        "# Fertilizer names mapping\n",
        "fertilizer_names = ['10-26-26', '14-35-14', '17-17-17', '20-20', '28-28', 'DAP', 'Urea']\n",
        "fertilizer_mapping = {name: index for index, name in enumerate(fertilizer_names)}\n",
        "reverse_fertilizer_mapping = {index: name for index, name in enumerate(fertilizer_names)}\n",
        "\n",
        "# Print mappings\n",
        "print(\"Available Soil Types:\", available_soil_types)\n",
        "print(\"Available Crop Types:\", available_crop_types)\n",
        "print(\"\\nFertilizer Name Mappings:\")\n",
        "for index, name in reverse_fertilizer_mapping.items():\n",
        "    print(f\"{index} : {name}\")\n",
        "\n",
        "# Load trained model\n",
        "model = pickle.load(open('model.pkl', 'rb'))\n",
        "\n",
        "# Function to take user input and predict fertilizer recommendation\n",
        "def recommend_fertilizer(model, available_soil_types, available_crop_types, reverse_fertilizer_mapping):\n",
        "    print(\"\\n🌱 Enter the details to get a Fertilizer Recommendation 🌱\\n\")\n",
        "\n",
        "    # Taking user inputs\n",
        "    temperature = float(input(\"Enter Temperature (°C): \"))\n",
        "    humidity = float(input(\"Enter Humidity (%): \"))\n",
        "    moisture = float(input(\"Enter Moisture (%): \"))\n",
        "\n",
        "    # Display available soil types and get user input\n",
        "    print(\"\\nAvailable Soil Types:\", available_soil_types)\n",
        "    soil_type = input(\"Enter Soil Type from above options: \")\n",
        "\n",
        "    if soil_type not in available_soil_types:\n",
        "        print(\"❌ Invalid Soil Type! Please enter a valid option.\")\n",
        "        return\n",
        "    soil_encoded = available_soil_types.index(soil_type)\n",
        "\n",
        "    # Display available crop types and get user input\n",
        "    print(\"\\nAvailable Crop Types:\", available_crop_types)\n",
        "    crop_type = input(\"Enter Crop Type from above options: \")\n",
        "\n",
        "    if crop_type not in available_crop_types:\n",
        "        print(\"❌ Invalid Crop Type! Please enter a valid option.\")\n",
        "        return\n",
        "    crop_encoded = available_crop_types.index(crop_type)\n",
        "\n",
        "    nitrogen = float(input(\"Enter Nitrogen content (N): \"))\n",
        "    phosphorus = float(input(\"Enter Phosphorus content (P): \"))\n",
        "    potassium = float(input(\"Enter Potassium content (K): \"))\n",
        "\n",
        "    # Creating input array for prediction\n",
        "    user_data = np.array([[temperature, humidity, moisture, soil_encoded, crop_encoded, nitrogen, phosphorus, potassium]])\n",
        "\n",
        "    # Predicting the fertilizer (encoded value)\n",
        "    predicted_fertilizer_encoded = model.predict(user_data)[0]\n",
        "\n",
        "    # Decoding to get the actual fertilizer name\n",
        "    predicted_fertilizer = reverse_fertilizer_mapping.get(predicted_fertilizer_encoded, \"Unknown Fertilizer\")\n",
        "\n",
        "    print(\"\\n✅ Recommended Fertilizer:\", predicted_fertilizer)\n",
        "\n",
        "# Call the function for user input and prediction\n",
        "recommend_fertilizer(model, available_soil_types, available_crop_types, reverse_fertilizer_mapping)\n",
        "0"
      ],
      "metadata": {
        "id": "bEj_4jIdvHiY",
        "colab": {
          "base_uri": "https://localhost:8080/"
        },
        "outputId": "ad7633d9-71fd-4d04-a5cb-2f0eb28d9ccf"
      },
      "execution_count": null,
      "outputs": [
        {
          "output_type": "stream",
          "name": "stdout",
          "text": [
            "Available Soil Types: ['Sandy', 'Loamy', 'Black', 'Red', 'Clayey']\n",
            "Available Crop Types: ['Maize', 'Sugarcane', 'Cotton', 'Tobacco', 'Paddy', 'Barley', 'Wheat', 'Millets', 'Oil seeds', 'Pulses', 'Ground Nuts']\n",
            "\n",
            "Fertilizer Name Mappings:\n",
            "0 : 10-26-26\n",
            "1 : 14-35-14\n",
            "2 : 17-17-17\n",
            "3 : 20-20\n",
            "4 : 28-28\n",
            "5 : DAP\n",
            "6 : Urea\n",
            "\n",
            "🌱 Enter the details to get a Fertilizer Recommendation 🌱\n",
            "\n",
            "Enter Temperature (°C): 26\n",
            "Enter Humidity (%): 52\n",
            "Enter Moisture (%): 38\n",
            "\n",
            "Available Soil Types: ['Sandy', 'Loamy', 'Black', 'Red', 'Clayey']\n",
            "Enter Soil Type from above options: Sandy\n",
            "\n",
            "Available Crop Types: ['Maize', 'Sugarcane', 'Cotton', 'Tobacco', 'Paddy', 'Barley', 'Wheat', 'Millets', 'Oil seeds', 'Pulses', 'Ground Nuts']\n",
            "Enter Crop Type from above options: Maize\n",
            "Enter Nitrogen content (N): 37\n",
            "Enter Phosphorus content (P): 0\n",
            "Enter Potassium content (K): 0\n",
            "\n",
            "✅ Recommended Fertilizer: Urea\n"
          ]
        },
        {
          "output_type": "stream",
          "name": "stderr",
          "text": [
            "/usr/local/lib/python3.11/dist-packages/sklearn/base.py:439: UserWarning: X does not have valid feature names, but RandomForestClassifier was fitted with feature names\n",
            "  warnings.warn(\n"
          ]
        },
        {
          "output_type": "execute_result",
          "data": {
            "text/plain": [
              "0"
            ]
          },
          "metadata": {},
          "execution_count": 41
        }
      ]
    },
    {
      "cell_type": "code",
      "source": [
        "from sklearn.model_selection import train_test_split\n",
        "from sklearn.metrics import accuracy_score, classification_report, confusion_matrix\n",
        "\n",
        "\n",
        "X = df.drop(columns=[\"Fertilizer Name\"])\n",
        "y = df[\"Fertilizer Name\"]\n",
        "\n",
        "# Split into train & test sets (80% training, 20% testing)\n",
        "X_train, X_test, y_train, y_test = train_test_split(X, y, test_size=0.2, random_state=42)\n",
        "\n",
        "# Train the model\n",
        "model.fit(X_train, y_train)  # Assuming the model is already defined\n",
        "\n",
        "# Make predictions\n",
        "y_pred = model.predict(X_test)\n",
        "\n",
        "# Calculate Accuracy Metrics\n",
        "accuracy = accuracy_score(y_test, y_pred)\n",
        "classification_rep = classification_report(y_test, y_pred)\n",
        "conf_matrix = confusion_matrix(y_test, y_pred)\n",
        "\n",
        "# Step 6: Print Metrics\n",
        "print(f\"✅ Model Accuracy: {accuracy * 100:.2f}%\")\n",
        "print(\"\\n🔹 Classification Report:\\n\", classification_rep)\n",
        "print(\"\\n🔹 Confusion Matrix:\\n\", conf_matrix)\n"
      ],
      "metadata": {
        "colab": {
          "base_uri": "https://localhost:8080/"
        },
        "id": "dt4GS1oe25Bf",
        "outputId": "de41bfc3-ddf8-4136-9c5e-25e2e32bf28d"
      },
      "execution_count": null,
      "outputs": [
        {
          "output_type": "stream",
          "name": "stdout",
          "text": [
            "✅ Model Accuracy: 95.00%\n",
            "\n",
            "🔹 Classification Report:\n",
            "               precision    recall  f1-score   support\n",
            "\n",
            "    10-26-26       1.00      0.50      0.67         2\n",
            "    14-35-14       1.00      1.00      1.00         1\n",
            "    17-17-17       0.00      0.00      0.00         0\n",
            "       20-20       1.00      1.00      1.00         1\n",
            "       28-28       1.00      1.00      1.00         5\n",
            "         DAP       1.00      1.00      1.00         5\n",
            "        Urea       1.00      1.00      1.00         6\n",
            "\n",
            "    accuracy                           0.95        20\n",
            "   macro avg       0.86      0.79      0.81        20\n",
            "weighted avg       1.00      0.95      0.97        20\n",
            "\n",
            "\n",
            "🔹 Confusion Matrix:\n",
            " [[1 0 1 0 0 0 0]\n",
            " [0 1 0 0 0 0 0]\n",
            " [0 0 0 0 0 0 0]\n",
            " [0 0 0 1 0 0 0]\n",
            " [0 0 0 0 5 0 0]\n",
            " [0 0 0 0 0 5 0]\n",
            " [0 0 0 0 0 0 6]]\n"
          ]
        },
        {
          "output_type": "stream",
          "name": "stderr",
          "text": [
            "/usr/local/lib/python3.11/dist-packages/sklearn/metrics/_classification.py:1344: UndefinedMetricWarning: Recall and F-score are ill-defined and being set to 0.0 in labels with no true samples. Use `zero_division` parameter to control this behavior.\n",
            "  _warn_prf(average, modifier, msg_start, len(result))\n",
            "/usr/local/lib/python3.11/dist-packages/sklearn/metrics/_classification.py:1344: UndefinedMetricWarning: Recall and F-score are ill-defined and being set to 0.0 in labels with no true samples. Use `zero_division` parameter to control this behavior.\n",
            "  _warn_prf(average, modifier, msg_start, len(result))\n",
            "/usr/local/lib/python3.11/dist-packages/sklearn/metrics/_classification.py:1344: UndefinedMetricWarning: Recall and F-score are ill-defined and being set to 0.0 in labels with no true samples. Use `zero_division` parameter to control this behavior.\n",
            "  _warn_prf(average, modifier, msg_start, len(result))\n"
          ]
        }
      ]
    },
    {
      "cell_type": "code",
      "source": [],
      "metadata": {
        "id": "CZeDAKvn7PrG"
      },
      "execution_count": null,
      "outputs": []
    }
  ]
}